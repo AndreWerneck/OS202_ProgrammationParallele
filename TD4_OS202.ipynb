{
  "nbformat": 4,
  "nbformat_minor": 0,
  "metadata": {
    "colab": {
      "provenance": [],
      "include_colab_link": true
    },
    "kernelspec": {
      "name": "python3",
      "display_name": "Python 3"
    },
    "language_info": {
      "name": "python"
    },
    "accelerator": "GPU",
    "gpuClass": "standard"
  },
  "cells": [
    {
      "cell_type": "markdown",
      "metadata": {
        "id": "view-in-github",
        "colab_type": "text"
      },
      "source": [
        "<a href=\"https://colab.research.google.com/github/AndreWerneck/OS202_ProgrammationParallele/blob/master/TD4_OS202.ipynb\" target=\"_parent\"><img src=\"https://colab.research.google.com/assets/colab-badge.svg\" alt=\"Open In Colab\"/></a>"
      ]
    },
    {
      "cell_type": "markdown",
      "metadata": {
        "id": "etdu6cUmeDmX"
      },
      "source": [
        "# Configurer votre colab pour le calcul sur GPU\n",
        "Dans le menu au dessus, choisir le sous-menu **Exécution** puis l'option **Modifier le type d'exécution**. \n",
        "\n",
        "Une fenêtre apparaît où vous pouvez choisir un accélérateur matériel. Choisissez un *GPU* puis *enregistrer* votre choix.\n",
        "\n",
        "Afin de vérifier que vous avez bien configuré votre session pour utiliser un GPU, exécuter le code ci-dessous (en passant la souris, une petite flèche pour l'exécuter apparaît).\n",
        "\n",
        "Si tout se passe bien, un tableau (en ascii) apparaît avec le type de carte (et son architecture) auquel vous avez accès. Si un message d'erreur apparaît, vérifiez dans **Modifier le type d'exécution** que l'accélérateur matériel est bien configuré pour un *GPU*"
      ]
    },
    {
      "cell_type": "code",
      "metadata": {
        "colab": {
          "base_uri": "https://localhost:8080/"
        },
        "id": "AisG7sW_bImi",
        "outputId": "af2793c4-c362-41ae-da62-d7d818deae13"
      },
      "source": [
        "!nvidia-smi"
      ],
      "execution_count": null,
      "outputs": [
        {
          "output_type": "stream",
          "name": "stdout",
          "text": [
            "Tue Feb 21 15:31:47 2023       \n",
            "+-----------------------------------------------------------------------------+\n",
            "| NVIDIA-SMI 510.47.03    Driver Version: 510.47.03    CUDA Version: 11.6     |\n",
            "|-------------------------------+----------------------+----------------------+\n",
            "| GPU  Name        Persistence-M| Bus-Id        Disp.A | Volatile Uncorr. ECC |\n",
            "| Fan  Temp  Perf  Pwr:Usage/Cap|         Memory-Usage | GPU-Util  Compute M. |\n",
            "|                               |                      |               MIG M. |\n",
            "|===============================+======================+======================|\n",
            "|   0  Tesla T4            Off  | 00000000:00:04.0 Off |                    0 |\n",
            "| N/A   66C    P0    30W /  70W |      0MiB / 15360MiB |      0%      Default |\n",
            "|                               |                      |                  N/A |\n",
            "+-------------------------------+----------------------+----------------------+\n",
            "                                                                               \n",
            "+-----------------------------------------------------------------------------+\n",
            "| Processes:                                                                  |\n",
            "|  GPU   GI   CI        PID   Type   Process name                  GPU Memory |\n",
            "|        ID   ID                                                   Usage      |\n",
            "|=============================================================================|\n",
            "|  No running processes found                                                 |\n",
            "+-----------------------------------------------------------------------------+\n"
          ]
        }
      ]
    },
    {
      "cell_type": "markdown",
      "metadata": {
        "id": "lKT2rlVxgil3"
      },
      "source": [
        "# Installation de PyCuda\n",
        "\n",
        "Pour utiliser le GPU sous Python il faut soit installer **PyCuda** pour effectuer des calculs, soit **PyTorch** pour effectuer du machine learning accéléré par les GPUs.\n",
        "\n",
        "Dans ce TP, nous nous bornerons uniquement à effectuer des calculs sur GPU !\n",
        "\n",
        "Pour cela, il faut d'abord installer pyCuda et donc exécuter le code ci-dessous (toujours en appuyant sur la flèche pour exécuter le code, et attendez, cela prend un petit moment...)"
      ]
    },
    {
      "cell_type": "code",
      "metadata": {
        "colab": {
          "base_uri": "https://localhost:8080/"
        },
        "id": "juIs9Ostgkoc",
        "outputId": "049a057c-d200-4bf8-88a7-ef423c1cfdc6"
      },
      "source": [
        "!pip install pycuda"
      ],
      "execution_count": null,
      "outputs": [
        {
          "output_type": "stream",
          "name": "stdout",
          "text": [
            "Looking in indexes: https://pypi.org/simple, https://us-python.pkg.dev/colab-wheels/public/simple/\n",
            "Requirement already satisfied: pycuda in /usr/local/lib/python3.8/dist-packages (2022.2.2)\n",
            "Requirement already satisfied: mako in /usr/local/lib/python3.8/dist-packages (from pycuda) (1.2.4)\n",
            "Requirement already satisfied: appdirs>=1.4.0 in /usr/local/lib/python3.8/dist-packages (from pycuda) (1.4.4)\n",
            "Requirement already satisfied: pytools>=2011.2 in /usr/local/lib/python3.8/dist-packages (from pycuda) (2022.1.14)\n",
            "Requirement already satisfied: platformdirs>=2.2.0 in /usr/local/lib/python3.8/dist-packages (from pytools>=2011.2->pycuda) (3.0.0)\n",
            "Requirement already satisfied: typing-extensions>=4.0 in /usr/local/lib/python3.8/dist-packages (from pytools>=2011.2->pycuda) (4.5.0)\n",
            "Requirement already satisfied: MarkupSafe>=0.9.2 in /usr/local/lib/python3.8/dist-packages (from mako->pycuda) (2.0.1)\n"
          ]
        }
      ]
    },
    {
      "cell_type": "markdown",
      "metadata": {
        "id": "qudDlvJtlFvM"
      },
      "source": [
        "# Vérification du bon fonctionnement du module PyCuda\n",
        "\n",
        "Afin de vérifier le bon fonctionnement de l'installation, nous allons écrire un script Cuda qui servira en même temps d'exemple pour le TP d'aujourd'hui. Ce script sera scindé en plusieurs morceaux et commenté pour que vous compreniez chaque partie du code.\n",
        "\n",
        "Ce code sera très simple : on va créer une matrice 4x4 avec des données prises \"au hasard\" (mais avec une graine aléatoire fixée, donc...) , recopier ce tableau dans la mémoire de la carte graphique et demander à la carte graphique de doubler la valeur de chaque élément de la matrice puis de recopier dans la mémoire de l'ordinateur les valeurs calculées. On affiche ensuite la matrice initiale et la matrice transformée.\n",
        "\n",
        "Dans un premier temps, chargeons les modules python nécessaire à l'exécution d'un noyau Cuda (**Remarque** : l'importation de ces modules n'est nécessaire qu'une seule fois pour **TOUTE** la session. Il sera donc inutile de reimporter ces modules dans le reste du TD !) :"
      ]
    },
    {
      "cell_type": "code",
      "metadata": {
        "id": "oqWKO6k_mw45"
      },
      "source": [
        "import pycuda.driver as cuda\n",
        "import pycuda.autoinit\n",
        "from pycuda.compiler import SourceModule"
      ],
      "execution_count": null,
      "outputs": []
    },
    {
      "cell_type": "markdown",
      "metadata": {
        "id": "aDlqPZFGm1mH"
      },
      "source": [
        "Créons à l'aide de numpy un tableau *a* dont les valeurs aléatoires sont issues d'une graine fixée :"
      ]
    },
    {
      "cell_type": "code",
      "metadata": {
        "id": "eHjGxA72nD5Q",
        "colab": {
          "base_uri": "https://localhost:8080/"
        },
        "outputId": "ac8baabf-c512-485e-c72a-d2b9e0e2e190"
      },
      "source": [
        "import numpy\n",
        "numpy.random.seed(1729)\n",
        "a = numpy.random.randn(4,4) # Sous forme de matrice 4 x 4\n",
        "a"
      ],
      "execution_count": null,
      "outputs": [
        {
          "output_type": "execute_result",
          "data": {
            "text/plain": [
              "array([[-0.68733944, -0.82099471,  1.65236086, -0.57529304],\n",
              "       [ 1.09896774,  0.92594603, -0.99341379, -0.85822114],\n",
              "       [ 0.07488676,  0.52935554,  0.12095155, -0.22442361],\n",
              "       [-1.55667849,  0.05594088,  0.16147154, -2.13464176]])"
            ]
          },
          "metadata": {},
          "execution_count": 4
        }
      ]
    },
    {
      "cell_type": "markdown",
      "metadata": {
        "id": "PB_UhGnJnL0H"
      },
      "source": [
        "Puisque certaines cartes graphiques supportent mal le double précision, nous allons demander à Python que les éléments de *a* soient en simple précision :"
      ]
    },
    {
      "cell_type": "code",
      "metadata": {
        "id": "BN3tt27lnZYf",
        "colab": {
          "base_uri": "https://localhost:8080/"
        },
        "outputId": "950016a8-2672-46fe-c731-a95012723af8"
      },
      "source": [
        "a = a.astype(numpy.float32)\n",
        "print(a.nbytes)"
      ],
      "execution_count": null,
      "outputs": [
        {
          "output_type": "stream",
          "name": "stdout",
          "text": [
            "64\n"
          ]
        }
      ]
    },
    {
      "cell_type": "markdown",
      "metadata": {
        "id": "bFvuQK_wnccf"
      },
      "source": [
        "Nous allons ensuite allouer de la place mémoire sur la mémoire vive du GPU. Comme en C, la place mémoire est exprimée en *Octets* :"
      ]
    },
    {
      "cell_type": "code",
      "metadata": {
        "id": "5WXc0_Q8nqw3"
      },
      "source": [
        "a_gpu = cuda.mem_alloc(a.nbytes)"
      ],
      "execution_count": null,
      "outputs": []
    },
    {
      "cell_type": "markdown",
      "metadata": {
        "id": "LqIHO5oYnugQ"
      },
      "source": [
        "Une fois la réservation sur le GPU de faite, on recopie les valeurs de *a* dans le tableau *a_gpu* que l'on vient de réserver (htod signifie host **to** device):"
      ]
    },
    {
      "cell_type": "code",
      "metadata": {
        "id": "JMiVGjKEoAJJ"
      },
      "source": [
        "cuda.memcpy_htod(a_gpu, a) # from a to a_gpu"
      ],
      "execution_count": null,
      "outputs": []
    },
    {
      "cell_type": "markdown",
      "metadata": {
        "id": "G2EIIhLwoDLY"
      },
      "source": [
        "Il faut ensuite écrire le noyau qui s'exécutera sur la carte graphique à l'aide du langage CUDA (qui est une extension du langage C).\n",
        "\n",
        "**Remarquez** dans le code qu'on s'assure que les indices donnés par les numéros de threads ne dépassent pas la dimension de la matrice !"
      ]
    },
    {
      "cell_type": "code",
      "metadata": {
        "id": "p_uaN7JNok9-"
      },
      "source": [
        "mod = SourceModule(\"\"\"\n",
        "__global__ void doublify( int dim_x, int dim_y, float *a )\n",
        "{\n",
        "  if ((threadIdx.x < dim_x) && (threadIdx.y < dim_y))\n",
        "  {\n",
        "    int idx = threadIdx.x + threadIdx.y * dim_x;\n",
        "    a[idx] *= 2;\n",
        "  }\n",
        "}\n",
        "\"\"\")"
      ],
      "execution_count": null,
      "outputs": []
    },
    {
      "cell_type": "markdown",
      "metadata": {
        "id": "IqsGbd-LqAlF"
      },
      "source": [
        "Nous allons récupérer ensuite un \"handle\" sur le noyau cuda que l'on vient de créer (en invoquant le nom de la fonction) et l'invoquer sur la carte graphique en dimensionnant la grille de calcul à l'aide de *block=(4,4,1)* (et en l'adaptant aux dimensions de la matrice).\n",
        "\n",
        "Ici, nous n'avons pas besoin de configurer de grilles car la dimension de la matrice *a* est petite, mais comme la taille d'un bloc dans une direction est limitée à 256, pour des cas plus gros, il faudra également passer une grille en paramètre à l'aide de *grid=(x,y,z)* où *x,y* et *z* sont des valeurs entières positives et utiliser dans le noyau cuda les valeurs *x,y* et *z* de **blockIdx** et **blockDim**.\n",
        "\n",
        "**REMARQUE IMPORTANTE** : Le noyau cuda ne veut que des types C basiques en argument. Or un entier python est tout sauf un type basique du C. Donc pour passer un argument entier à un noyau cuda, il faut créer un entier 32 bits à l'aide de numpy.int32"
      ]
    },
    {
      "cell_type": "code",
      "metadata": {
        "id": "QW9-l0XaqSuH"
      },
      "source": [
        "func = mod.get_function(\"doublify\")\n",
        "dim = numpy.int32(4)\n",
        "func(dim, dim, a_gpu, block=(4,4,1))"
      ],
      "execution_count": null,
      "outputs": []
    },
    {
      "cell_type": "markdown",
      "metadata": {
        "id": "tbE0Dg-7qRlt"
      },
      "source": [
        "Il ne reste plus qu'à récupérer les nouvelles valeurs de la matrice en transférant les données de la matrice contenue par le GPU dans un tableau numpy se trouvant dans la RAM de l'ordinateur (dtoh signifie device **to** host) :"
      ]
    },
    {
      "cell_type": "code",
      "metadata": {
        "id": "Dt77Pr7JqrPU"
      },
      "source": [
        "a_doubled = numpy.empty_like(a)\n",
        "cuda.memcpy_dtoh(a_doubled, a_gpu)"
      ],
      "execution_count": null,
      "outputs": []
    },
    {
      "cell_type": "markdown",
      "metadata": {
        "id": "aCEHT9OMwLCl"
      },
      "source": [
        "Il ne reste plus qu'à afficher la matrice initiale puis la matrice obtenue par le calcul sur GPU :"
      ]
    },
    {
      "cell_type": "code",
      "metadata": {
        "colab": {
          "base_uri": "https://localhost:8080/"
        },
        "id": "s7-qzHVFwP9R",
        "outputId": "e70291c3-4a6e-4209-cba4-209c0735bb9f"
      },
      "source": [
        "print(f\"a : {a}\")\n",
        "print(f\"a_gpu : {a_doubled}\")"
      ],
      "execution_count": null,
      "outputs": [
        {
          "output_type": "stream",
          "name": "stdout",
          "text": [
            "a : [[-0.6873394  -0.82099473  1.6523609  -0.57529306]\n",
            " [ 1.0989678   0.92594606 -0.9934138  -0.8582211 ]\n",
            " [ 0.07488676  0.5293555   0.12095155 -0.22442362]\n",
            " [-1.5566785   0.05594088  0.16147153 -2.1346416 ]]\n",
            "a_gpu : [[-1.3746789  -1.6419895   3.3047218  -1.1505861 ]\n",
            " [ 2.1979356   1.8518921  -1.9868276  -1.7164422 ]\n",
            " [ 0.14977352  1.058711    0.2419031  -0.44884723]\n",
            " [-3.113357    0.11188176  0.32294306 -4.2692833 ]]\n"
          ]
        }
      ]
    },
    {
      "cell_type": "markdown",
      "metadata": {
        "id": "loEHbBbLwxwg"
      },
      "source": [
        "## Exercices de mises en bouche\n",
        "\n",
        "En vous inspirant du programme commenté ci-dessus, écrivez un code avec un noyau Cuda qui fait la somme de deux vecteurs de réels simples précisions et qui range le résultat dans un troisième vecteur. \n",
        "\n",
        "On s'exercera à utiliser des vecteurs de \"grandes\" dimensions (> 256) afin de s'entrainer à calculer des indices globaux dans le noyau cuda à l'aide de *threadIdx.x*, *blockIdx.x* et *dimBlock.x*.\n",
        "\n",
        "Ecrivez (ou copier coller) votre code dans la cellule ci-dessous"
      ]
    },
    {
      "cell_type": "code",
      "metadata": {
        "id": "MdP6BpWQyDyx"
      },
      "source": [
        "numpy.random.seed(0)\n",
        "N = 300\n",
        "v_source0 = numpy.random.randn(N)\n",
        "v_source1 = numpy.random.randn(N)\n",
        "v_result = numpy.zeros(N)\n",
        "\n",
        "v_source0 = v_source0.astype(numpy.float32)\n",
        "v_source1 = v_source1.astype(numpy.float32)\n",
        "v_result = numpy.empty_like(v_source0)\n",
        "\n",
        "v_source0_gpu = cuda.mem_alloc(v_source0.nbytes)\n",
        "v_source1_gpu = cuda.mem_alloc(v_source1.nbytes)\n",
        "v_result_gpu = cuda.mem_alloc(v_result.nbytes)\n",
        "\n",
        "cuda.memcpy_htod(v_source0_gpu,v_source0)\n",
        "cuda.memcpy_htod(v_source1_gpu,v_source1)\n",
        "cuda.memcpy_htod(v_result_gpu,v_result)\n",
        "\n",
        "# v_source1.nbytes/(512*512)*8"
      ],
      "execution_count": null,
      "outputs": []
    },
    {
      "cell_type": "code",
      "source": [
        "f = SourceModule(\"\"\"\n",
        "__global__ void deviceSum( int N, float *s0, float *s1 ,float *a)\n",
        "{\n",
        "  int idx = blockDim.x * blockIdx.x + threadIdx.x; \n",
        "  if (idx < N)\n",
        "  {\n",
        "    a[idx] = s0[idx] + s1[idx];\n",
        "  }\n",
        "}\n",
        "\"\"\")"
      ],
      "metadata": {
        "id": "UlJ5CG4SadfF"
      },
      "execution_count": null,
      "outputs": []
    },
    {
      "cell_type": "code",
      "source": [
        "import math as m\n",
        "blocksize = 256\n",
        "gridsize = m.ceil(float(N)/blocksize)\n",
        "gridDim   = (gridsize, 1, 1)\n",
        "blockDim = (blocksize,1,1)"
      ],
      "metadata": {
        "id": "UpIqJl79XSU2"
      },
      "execution_count": null,
      "outputs": []
    },
    {
      "cell_type": "code",
      "source": [
        "func = f.get_function(\"deviceSum\")\n",
        "dim = numpy.int32(N)\n",
        "func(dim,v_source0_gpu, v_source1_gpu,v_result_gpu,block=blockDim,grid=gridDim)\n",
        "a_summed = numpy.empty_like(v_result)\n",
        "cuda.memcpy_dtoh(a_summed, v_result_gpu)\n",
        "print(f\"v_source0 : {v_source0}\")\n",
        "print(f\"v_source1 : {v_source1}\")\n",
        "print(f\"v_result_gpu : {a_summed}\")"
      ],
      "metadata": {
        "colab": {
          "base_uri": "https://localhost:8080/"
        },
        "id": "NEvHhZXboH4y",
        "outputId": "314ceb37-ad72-4913-82de-6561866de45b"
      },
      "execution_count": null,
      "outputs": [
        {
          "output_type": "stream",
          "name": "stdout",
          "text": [
            "v_source0 : [ 1.7640524   0.4001572   0.978738    2.2408931   1.867558   -0.9772779\n",
            "  0.95008844 -0.1513572  -0.10321885  0.41059852  0.14404356  1.4542735\n",
            "  0.7610377   0.12167501  0.44386324  0.33367434  1.4940791  -0.20515826\n",
            "  0.3130677  -0.85409576 -2.5529897   0.6536186   0.8644362  -0.742165\n",
            "  2.2697546  -1.4543657   0.04575852 -0.18718386  1.5327792   1.4693588\n",
            "  0.15494743  0.37816253 -0.88778573 -1.9807965  -0.34791216  0.15634897\n",
            "  1.2302907   1.2023798  -0.3873268  -0.30230275 -1.048553   -1.420018\n",
            " -1.7062702   1.9507754  -0.5096522  -0.4380743  -1.2527953   0.7774904\n",
            " -1.6138978  -0.21274029 -0.89546657  0.3869025  -0.51080513 -1.1806322\n",
            " -0.02818223  0.42833188  0.06651722  0.3024719  -0.6343221  -0.36274117\n",
            " -0.67246044 -0.35955316 -0.8131463  -1.7262826   0.17742614 -0.40178093\n",
            " -1.6301984   0.46278226 -0.9072984   0.0519454   0.7290906   0.12898292\n",
            "  1.1394007  -1.2348258   0.40234163 -0.6848101  -0.87079716 -0.5788497\n",
            " -0.31155252  0.05616534 -1.1651498   0.9008265   0.46566245 -1.5362437\n",
            "  1.4882522   1.8958892   1.1787796  -0.17992483 -1.0707526   1.0544517\n",
            " -0.40317693  1.222445    0.20827498  0.97663903  0.3563664   0.7065732\n",
            "  0.01050002  1.7858706   0.12691209  0.40198937  1.8831507  -1.347759\n",
            " -1.270485    0.9693967  -1.1731234   1.9436212  -0.41361898 -0.7474548\n",
            "  1.922942    1.4805148   1.867559    0.90604466 -0.86122566  1.9100649\n",
            " -0.26800337  0.8024564   0.947252   -0.15501009  0.61407936  0.9222067\n",
            "  0.37642553 -1.0994008   0.2982382   1.3263859  -0.69456786 -0.14963454\n",
            " -0.43515354  1.8492638   0.67229474  0.40746182 -0.76991606  0.5392492\n",
            " -0.6743327   0.03183056 -0.6358461   0.67643327  0.57659084 -0.20829876\n",
            "  0.3960067  -1.0930616  -1.4912575   0.4393917   0.1666735   0.63503146\n",
            "  2.3831449   0.94447947 -0.91282225  1.1170163  -1.3159074  -0.4615846\n",
            " -0.0682416   1.7133427  -0.74475485 -0.82643855 -0.09845252 -0.6634783\n",
            "  1.1266359  -1.0799315  -1.1474687  -0.43782005 -0.49803245  1.929532\n",
            "  0.9494208   0.08755124 -1.2254355   0.844363   -1.0002153  -1.5447711\n",
            "  1.1880298   0.3169426   0.9208588   0.31872764  0.8568306  -0.6510256\n",
            " -1.0342429   0.6815945  -0.80340964 -0.6895498  -0.4555325   0.01747916\n",
            " -0.35399392 -1.3749512  -0.6436184  -2.2234032   0.62523144 -1.6020577\n",
            " -1.1043833   0.05216508 -0.739563    1.5430146  -1.2928569   0.26705086\n",
            " -0.03928282 -1.1680934   0.5232767  -0.17154633  0.77179056  0.82350415\n",
            "  2.163236    1.336528   -0.36918184 -0.23937918  1.0996596   0.6552637\n",
            "  0.64013153 -1.616956   -0.02432613 -0.7380309   0.2799246  -0.09815039\n",
            "  0.9101789   0.3172182   0.78632796 -0.4664191  -0.94444627 -0.4100497\n",
            " -0.01702041  0.37915173  2.259309   -0.04225715 -0.955945   -0.34598178\n",
            " -0.463596    0.48148146 -1.540797    0.06326199  0.15650654  0.23218104\n",
            " -0.5973161  -0.23792173 -1.424061   -0.49331987 -0.54286146  0.41605005\n",
            " -1.1561824   0.7811981   1.4944845  -2.069985    0.42625874  0.676908\n",
            " -0.63743705 -0.3972718  -0.13288058 -0.29779088 -0.30901298 -1.6760038\n",
            "  1.1523316   1.0796186  -0.81336427 -1.4664243   0.5210649  -0.57578796\n",
            "  0.14195317 -0.31932843  0.69153875  0.6947491  -0.7255974  -1.383364\n",
            " -1.5829384   0.6103794  -1.1888592  -0.5068163  -0.596314   -0.0525673\n",
            " -1.9362798   0.1887786   0.52389103  0.08842209 -0.31088617  0.09740017\n",
            "  0.39904633 -2.7725928   1.9559124   0.39009333 -0.6524086  -0.39095336\n",
            "  0.49374178 -0.11610394 -2.0306845   2.064493   -0.11054066  1.0201727\n",
            " -0.69204986  1.5363771   0.2863437   0.60884386 -1.0452534   1.2111453\n",
            "  0.68981814  1.3018463  -0.6280876  -0.48102713  2.3039167  -1.0600158\n",
            " -0.1359497   1.1368914   0.09772497  0.5829537  -0.39944902  0.37005588]\n",
            "v_source1 : [-1.3065269   1.6581306  -0.11816405 -0.6801782   0.6663831  -0.4607198\n",
            " -1.3342584  -1.3467175   0.69377315 -0.15957344 -0.13370156  1.0777438\n",
            " -1.1268258  -0.7306777  -0.3848798   0.09435159 -0.04217145 -0.2868872\n",
            " -0.0616264  -0.10730527 -0.7196044  -0.812993    0.27451634 -0.8909151\n",
            " -1.1573553  -0.31229225 -0.15766701  2.2567234  -0.7047003   0.9432607\n",
            "  0.7471883  -1.1889449   0.77325296 -1.1838807  -2.6591723   0.60631955\n",
            " -1.7558906   0.45093447 -0.6840109   1.6595508   1.0685093  -0.4533858\n",
            " -0.6878376  -1.2140774  -0.44092262 -0.28035548 -0.36469355  0.15670386\n",
            "  0.5785215   0.34965447 -0.76414394 -1.4377915   1.3645319  -0.6894492\n",
            " -0.6522936  -0.52118933 -1.8430696  -0.477974   -0.4796558   0.6203583\n",
            "  0.6984571   0.00377089  0.93184835  0.339965   -0.01568211  0.16092817\n",
            " -0.19065349 -0.3948495  -0.26773354 -1.1280113   0.2804417  -0.9931236\n",
            "  0.8416313  -0.24945858  0.04949498  0.4938368   0.6433145  -1.5706234\n",
            " -0.20690368  0.8801789  -1.6981058   0.38728046 -2.2555642  -1.0225068\n",
            "  0.03863055 -1.6567152  -0.98551077 -1.471835    1.648135    0.16422775\n",
            "  0.5672903  -0.2226751  -0.35343176 -1.6164742  -0.29183736 -0.7614922\n",
            "  0.8579239   1.1411018   1.4665787   0.85255194 -0.5986539  -1.1158969\n",
            "  0.7666632   0.3562928  -1.7685385   0.3554818   0.8145198   0.05892559\n",
            " -0.18505368 -0.8076485  -1.4465348   0.800298   -0.30911446 -0.23346666\n",
            "  1.7327212   0.6845011   0.370825    0.1420618   1.5199949   1.7195894\n",
            "  0.9295051   0.5822246  -2.094603    0.12372191 -0.13010696  0.09395323\n",
            "  0.9430461  -2.7396772  -0.56931204  0.26990435 -0.46684554 -1.4169061\n",
            "  0.8689635   0.27687192 -0.97110456  0.3148172   0.8215857   0.00529265\n",
            "  0.8005648   0.07826018 -0.39522898 -1.1594205  -0.08593076  0.19429293\n",
            "  0.87583274 -0.11510747  0.4574156  -0.964612   -0.78262913 -0.1103893\n",
            " -1.0546285   0.8202478   0.46313033  0.27909577  0.3389041   2.0210435\n",
            " -0.4688642  -2.2014413   0.1993002  -0.05060354 -0.51751906 -0.97882986\n",
            " -0.43918952  0.18133843 -0.5028167   2.4124537  -0.96050435 -0.79311734\n",
            " -2.28862     0.25148442 -2.0164065  -0.53945464 -0.27567053 -0.70972794\n",
            "  1.7388726   0.99439436  1.3191369  -0.8824188   1.128594    0.49600095\n",
            "  0.77140594  1.0294389  -0.90876323 -0.42431763  0.86259604 -2.6556191\n",
            "  1.5133281   0.55313206 -0.04570396  0.22050765 -1.0299352  -0.34994337\n",
            "  1.1002843   1.298022    2.696224   -0.07392467 -0.65855294 -0.51423395\n",
            " -1.0180418  -0.07785475  0.38273242 -0.03424228  1.0963469  -0.2342158\n",
            " -0.34745064 -0.5812685  -1.6326345  -1.5677677  -1.179158    1.3014281\n",
            "  0.8952603   1.3749641  -1.3322116  -1.9686247  -0.6600563   0.17581895\n",
            "  0.49869028  1.0479722   0.28427967  1.7426687  -0.22260568 -0.9130792\n",
            " -1.6812183  -0.8889713   0.24211796 -0.8887203   0.9367425   1.4123276\n",
            " -2.369587    0.8640523  -2.239604    0.40149906  1.2248706   0.0648561\n",
            " -1.2796892  -0.5854312  -0.26164544 -0.18224478 -0.20289683 -0.10988278\n",
            "  0.21348006 -1.2085737  -0.24201983  1.5182612  -0.38464543 -0.4438361\n",
            "  1.0781974  -2.5591846   1.1813786  -0.63190377  0.16392857  0.09632136\n",
            "  0.9424681  -0.26759475 -0.6780258   1.2978458  -2.364174    0.02033418\n",
            " -1.3479254  -0.7615734   2.0112567  -0.04459543  0.1950697  -1.7815628\n",
            " -0.7290447   0.1965574   0.3547577   0.61688656  0.0086279   0.5270042\n",
            "  0.4537819  -1.8297404   0.03700572  0.76790243  0.5898798  -0.36385882\n",
            " -0.8056265  -1.1183119  -0.13105401  1.1330799  -1.9518042  -0.6598917\n",
            " -1.1398025   0.7849575  -0.5543096  -0.47063765 -0.21694957  0.44539326\n",
            " -0.392389   -3.046143    0.5433119   0.43904296 -0.21954103 -1.0840366\n",
            "  0.35178012  0.37923554 -0.47003287 -0.21673147 -0.9301565  -0.17858909]\n",
            "v_result_gpu : [ 0.4575255   2.0582879   0.86057395  1.560715    2.533941   -1.4379977\n",
            " -0.38417    -1.4980747   0.5905543   0.25102508  0.010342    2.5320172\n",
            " -0.3657881  -0.6090027   0.05898345  0.42802593  1.4519076  -0.49204546\n",
            "  0.2514413  -0.96140105 -3.272594   -0.15937442  1.1389525  -1.6330801\n",
            "  1.1123993  -1.766658   -0.1119085   2.0695395   0.8280789   2.4126196\n",
            "  0.9021357  -0.81078243 -0.11453277 -3.1646771  -3.0070844   0.7626685\n",
            " -0.52559996  1.6533144  -1.0713377   1.3572481   0.01995635 -1.8734038\n",
            " -2.3941078   0.73669803 -0.9505748  -0.7184298  -1.6174889   0.9341942\n",
            " -1.0353763   0.13691418 -1.6596105  -1.050889    0.85372674 -1.8700814\n",
            " -0.68047583 -0.09285745 -1.7765523  -0.17550209 -1.1139779   0.25761712\n",
            "  0.02599669 -0.35578227  0.11870205 -1.3863176   0.16174403 -0.24085276\n",
            " -1.8208518   0.06793275 -1.1750319  -1.0760659   1.0095322  -0.8641407\n",
            "  1.981032   -1.4842844   0.45183662 -0.19097331 -0.22748268 -2.1494732\n",
            " -0.5184562   0.93634427 -2.8632555   1.2881069  -1.7899017  -2.5587506\n",
            "  1.5268828   0.23917401  0.19326884 -1.6517599   0.5773823   1.2186794\n",
            "  0.16411337  0.9997699  -0.14515679 -0.6398351   0.06452903 -0.054919\n",
            "  0.86842394  2.9269724   1.5934908   1.2545413   1.2844968  -2.463656\n",
            " -0.50382185  1.3256896  -2.9416618   2.299103    0.40090084 -0.68852925\n",
            "  1.7378883   0.6728663   0.4210242   1.7063427  -1.1703401   1.6765983\n",
            "  1.4647179   1.4869576   1.318077   -0.01294829  2.1340742   2.641796\n",
            "  1.3059306  -0.51717615 -1.7963649   1.4501078  -0.82467484 -0.05568131\n",
            "  0.50789255 -0.8904134   0.1029827   0.67736614 -1.2367616  -0.87765694\n",
            "  0.1946308   0.30870247 -1.6069506   0.99125046  1.3981766  -0.20300612\n",
            "  1.1965716  -1.0148014  -1.8864865  -0.72002876  0.08074273  0.82932436\n",
            "  3.2589777   0.829372   -0.45540664  0.15240431 -2.0985365  -0.5719739\n",
            " -1.1228701   2.5335906  -0.28162453 -0.5473428   0.24045159  1.3575652\n",
            "  0.6577717  -3.2813728  -0.9481685  -0.4884236  -1.0155516   0.9507022\n",
            "  0.51023126  0.26888967 -1.7282522   3.2568166  -1.9607196  -2.3378885\n",
            " -1.1005902   0.568427   -1.0955477  -0.220727    0.58116007 -1.3607535\n",
            "  0.7046298   1.6759889   0.5157272  -1.5719686   0.67306155  0.5134801\n",
            "  0.417412   -0.3455124  -1.5523816  -2.6477208   1.4878275  -4.257677\n",
            "  0.40894473  0.60529715 -0.78526694  1.7635223  -2.322792   -0.08289251\n",
            "  1.0610015   0.12992859  3.2195005  -0.245471    0.11323762  0.3092702\n",
            "  1.145194    1.2586732   0.01355058 -0.27362147  2.1960063   0.42104793\n",
            "  0.2926809  -2.1982245  -1.6569606  -2.3057985  -0.89923334  1.2032777\n",
            "  1.8054392   1.6921823  -0.54588366 -2.4350438  -1.6045026  -0.23423076\n",
            "  0.48166987  1.4271239   2.5435886   1.7004116  -1.1785507  -1.259061\n",
            " -2.1448143  -0.40748987 -1.298679   -0.8254583   1.0932491   1.6445087\n",
            " -2.966903    0.6261306  -3.6636648  -0.09182081  0.6820091   0.48090616\n",
            " -2.4358716   0.19576687  1.2328391  -2.2522297   0.22336191  0.56702524\n",
            " -0.423957   -1.6058455  -0.3749004   1.2204703  -0.6936584  -2.11984\n",
            "  2.2305288  -1.479566    0.36801434 -2.098328    0.68499345 -0.47946662\n",
            "  1.0844213  -0.5869232   0.01351297  1.992595   -3.0897713  -1.3630298\n",
            " -2.9308639  -0.15119398  0.8223975  -0.55141175 -0.4012443  -1.83413\n",
            " -2.6653244   0.38533598  0.87864876  0.7053087  -0.30225828  0.6244044\n",
            "  0.85282826 -4.602333    1.992918    1.1579957  -0.06252879 -0.7548122\n",
            " -0.31188473 -1.2344158  -2.1617384   3.1975727  -2.0623448   0.360281\n",
            " -1.8318523   2.3213346  -0.2679659   0.13820621 -1.262203    1.6565385\n",
            "  0.29742914 -1.7442968  -0.08477569 -0.04198417  2.0843756  -2.1440525\n",
            "  0.21583042  1.5161269  -0.3723079   0.3662222  -1.3296056   0.1914668 ]\n"
          ]
        }
      ]
    },
    {
      "cell_type": "markdown",
      "metadata": {
        "id": "esWwXhGMy8vJ"
      },
      "source": [
        "Une fois le code mis au point, recopiez le ci-dessous et adaptez le pour additionner deux matrices carrées dans une troisième."
      ]
    },
    {
      "cell_type": "code",
      "metadata": {
        "id": "lMAqLHVmzJbG",
        "colab": {
          "base_uri": "https://localhost:8080/"
        },
        "outputId": "59b2680b-a704-4d73-9048-01342ca7c484"
      },
      "source": [
        "numpy.random.seed(0)\n",
        "M = 30\n",
        "v_matrix0 = numpy.random.randn(M,M)\n",
        "v_matrix1 = numpy.random.randn(M,M)\n",
        "v_matrix_r = numpy.empty_like(v_matrix0)\n",
        "\n",
        "v_matrix0 = v_matrix0.astype(numpy.float32)\n",
        "v_matrix1 = v_matrix1.astype(numpy.float32)\n",
        "v_matrix_r = v_matrix_r.astype(numpy.float32)\n",
        "\n",
        "v_matrix0_gpu = cuda.mem_alloc(v_matrix0.nbytes)\n",
        "v_matrix1_gpu = cuda.mem_alloc(v_matrix1.nbytes)\n",
        "v_matrix_r_gpu = cuda.mem_alloc(v_matrix_r.nbytes)\n",
        "\n",
        "cuda.memcpy_htod(v_matrix0_gpu,v_matrix0)\n",
        "cuda.memcpy_htod(v_matrix1_gpu,v_matrix1)\n",
        "cuda.memcpy_htod(v_matrix_r_gpu,v_matrix_r)\n",
        "\n",
        "# v_source1.nbytes/(512*512)*8"
      ],
      "execution_count": null,
      "outputs": [
        {
          "output_type": "stream",
          "name": "stderr",
          "text": [
            "/usr/local/lib/python3.8/dist-packages/google/colab/_variable_inspector.py:27: UserWarning: device_allocation in out-of-thread context could not be cleaned up\n",
            "  globals().clear()\n"
          ]
        }
      ]
    },
    {
      "cell_type": "code",
      "source": [
        "f = SourceModule(\"\"\"\n",
        "__global__ void deviceMatrixSum(int width, float *s0, float *s1 ,float *a)\n",
        "{\n",
        "  int idx_col = blockDim.x * blockIdx.x + threadIdx.x;\n",
        "  int idx_row = blockDim.y * blockIdx.y + threadIdx.y; \n",
        "  if ((idx_row < width) && (idx_col < width))\n",
        "  {\n",
        "    int element_idx = idx_row * width + idx_col;\n",
        "    a[element_idx] = s0[element_idx] + s1[element_idx]; \n",
        "  }\n",
        "}\n",
        "\"\"\")"
      ],
      "metadata": {
        "id": "0l-ytlP5e2jw"
      },
      "execution_count": null,
      "outputs": []
    },
    {
      "cell_type": "code",
      "source": [
        "blocksize = 256\n",
        "gridsize = m.ceil(float(N)/blocksize)\n",
        "gridDim   = (gridsize, 1, 1)\n",
        "blockDim = (blocksize,1,1)"
      ],
      "metadata": {
        "id": "eygHfF6MlJ-A"
      },
      "execution_count": null,
      "outputs": []
    },
    {
      "cell_type": "code",
      "source": [
        "func = f.get_function(\"deviceMatrixSum\")\n",
        "dim_x = numpy.int32(M)\n",
        "dim_y = numpy.int32(M)\n",
        "func(dim_x,v_matrix0_gpu, v_matrix1_gpu,v_matrix_r_gpu,block=blockDim,grid=gridDim)\n",
        "m_summed = numpy.empty_like(v_matrix_r)\n",
        "cuda.memcpy_dtoh(m_summed, v_matrix_r_gpu)\n",
        "# print(f\"v_matrix0 : {v_matrix0}\")\n",
        "# print(f\"v_matrix1 : {v_matrix1}\")\n",
        "print(f\"v_matrix_r_gpu : {m_summed}\")"
      ],
      "metadata": {
        "colab": {
          "base_uri": "https://localhost:8080/"
        },
        "id": "rALQAQ6-fiM0",
        "outputId": "bf758074-5166-4359-b034-cca661c45896"
      },
      "execution_count": null,
      "outputs": [
        {
          "output_type": "stream",
          "name": "stdout",
          "text": [
            "v_matrix_r_gpu : [[ 3.02319646e-01 -2.83282578e-01  1.34628296e+00  2.43120480e+00\n",
            "   1.01582885e+00  8.45445752e-01  4.28508759e-01 -1.33604372e+00\n",
            "   8.57474566e-01  1.73966134e+00 -6.73449516e-01  5.29261827e-02\n",
            "   1.79147601e+00 -1.92564869e+00 -7.82758355e-01  1.30112052e+00\n",
            "   1.43872654e+00 -4.69095618e-01  6.65884316e-01 -1.00687015e+00\n",
            "  -3.85167646e+00  1.92969394e+00  2.18945026e+00 -5.36832452e-01\n",
            "   2.31488872e+00  8.85259151e-01 -2.30674326e-01 -4.46760833e-01\n",
            "   1.89726043e+00  2.94068074e+00]\n",
            " [ 0.00000000e+00 -0.00000000e+00  0.00000000e+00  0.00000000e+00\n",
            "   0.00000000e+00  0.00000000e+00  0.00000000e+00  0.00000000e+00\n",
            "   0.00000000e+00  0.00000000e+00  0.00000000e+00  0.00000000e+00\n",
            "   0.00000000e+00  0.00000000e+00  0.00000000e+00  0.00000000e+00\n",
            "              inf  0.00000000e+00  0.00000000e+00  0.00000000e+00\n",
            "   0.00000000e+00  0.00000000e+00  0.00000000e+00  0.00000000e+00\n",
            "   0.00000000e+00  0.00000000e+00  0.00000000e+00  0.00000000e+00\n",
            "              inf  0.00000000e+00]\n",
            " [ 0.00000000e+00 -0.00000000e+00  0.00000000e+00  0.00000000e+00\n",
            "  -0.00000000e+00  0.00000000e+00  0.00000000e+00            -inf\n",
            "   0.00000000e+00  0.00000000e+00             inf  0.00000000e+00\n",
            "   0.00000000e+00 -0.00000000e+00  0.00000000e+00  0.00000000e+00\n",
            "             -inf  0.00000000e+00  0.00000000e+00            -inf\n",
            "   0.00000000e+00  0.00000000e+00 -0.00000000e+00  0.00000000e+00\n",
            "   0.00000000e+00 -0.00000000e+00  0.00000000e+00  0.00000000e+00\n",
            "             -inf  0.00000000e+00]\n",
            " [ 0.00000000e+00            -inf  0.00000000e+00  0.00000000e+00\n",
            "              inf  0.00000000e+00  0.00000000e+00 -2.52588033e-12\n",
            "   0.00000000e+00  0.00000000e+00 -2.52588033e-12  0.00000000e+00\n",
            "   0.00000000e+00  0.00000000e+00  0.00000000e+00  0.00000000e+00\n",
            "              inf  0.00000000e+00  0.00000000e+00             inf\n",
            "   0.00000000e+00  0.00000000e+00  0.00000000e+00  0.00000000e+00\n",
            "   0.00000000e+00             inf  0.00000000e+00  0.00000000e+00\n",
            "              inf  0.00000000e+00]\n",
            " [ 0.00000000e+00  0.00000000e+00  0.00000000e+00  0.00000000e+00\n",
            "   0.00000000e+00  0.00000000e+00  0.00000000e+00  0.00000000e+00\n",
            "   0.00000000e+00  0.00000000e+00  0.00000000e+00  0.00000000e+00\n",
            "   0.00000000e+00  0.00000000e+00  0.00000000e+00  0.00000000e+00\n",
            "  -0.00000000e+00  0.00000000e+00  0.00000000e+00             inf\n",
            "   0.00000000e+00  0.00000000e+00             inf  0.00000000e+00\n",
            "   0.00000000e+00  0.00000000e+00  0.00000000e+00  0.00000000e+00\n",
            "  -0.00000000e+00  0.00000000e+00]\n",
            " [ 0.00000000e+00  2.50587776e-34  0.00000000e+00  0.00000000e+00\n",
            "              inf  0.00000000e+00  0.00000000e+00             inf\n",
            "   0.00000000e+00  0.00000000e+00             inf  0.00000000e+00\n",
            "   0.00000000e+00            -inf  0.00000000e+00  0.00000000e+00\n",
            "   0.00000000e+00  0.00000000e+00  0.00000000e+00 -0.00000000e+00\n",
            "   0.00000000e+00  0.00000000e+00             inf  0.00000000e+00\n",
            "   0.00000000e+00             inf  0.00000000e+00  0.00000000e+00\n",
            "             -inf  0.00000000e+00]\n",
            " [ 0.00000000e+00             inf  0.00000000e+00  0.00000000e+00\n",
            "              inf  0.00000000e+00  0.00000000e+00             inf\n",
            "   0.00000000e+00  0.00000000e+00             inf  0.00000000e+00\n",
            "   0.00000000e+00             inf  0.00000000e+00  0.00000000e+00\n",
            "             -inf  0.00000000e+00  0.00000000e+00            -inf\n",
            "   0.00000000e+00  0.00000000e+00            -inf  0.00000000e+00\n",
            "   0.00000000e+00            -inf  0.00000000e+00  0.00000000e+00\n",
            "             -inf  0.00000000e+00]\n",
            " [ 0.00000000e+00            -inf  0.00000000e+00  0.00000000e+00\n",
            "             -inf  0.00000000e+00  0.00000000e+00 -0.00000000e+00\n",
            "   0.00000000e+00  0.00000000e+00            -inf  0.00000000e+00\n",
            "   0.00000000e+00            -inf  0.00000000e+00  0.00000000e+00\n",
            "              inf  0.00000000e+00  0.00000000e+00             inf\n",
            "   0.00000000e+00  0.00000000e+00  0.00000000e+00  0.00000000e+00\n",
            "   0.00000000e+00  0.00000000e+00  0.00000000e+00  0.00000000e+00\n",
            "   0.00000000e+00  0.00000000e+00]\n",
            " [ 0.00000000e+00  0.00000000e+00  0.00000000e+00  0.00000000e+00\n",
            "  -3.47522019e-43  0.00000000e+00  0.00000000e+00 -3.47522019e-43\n",
            "   0.00000000e+00  0.00000000e+00 -0.00000000e+00  0.00000000e+00\n",
            "   0.00000000e+00 -0.00000000e+00  0.00000000e+00  0.00000000e+00\n",
            "  -0.00000000e+00  0.00000000e+00  0.00000000e+00  1.60608543e+10\n",
            "   0.00000000e+00  0.00000000e+00  1.60608543e+10  0.00000000e+00\n",
            "   0.00000000e+00 -0.00000000e+00  0.00000000e+00  0.00000000e+00\n",
            "              inf  0.00000000e+00]\n",
            " [ 0.00000000e+00             inf  0.00000000e+00  0.00000000e+00\n",
            "             -inf  0.00000000e+00  0.00000000e+00             inf\n",
            "   0.00000000e+00  0.00000000e+00             inf  0.00000000e+00\n",
            "   0.00000000e+00  0.00000000e+00  0.00000000e+00  0.00000000e+00\n",
            "   0.00000000e+00  0.00000000e+00  0.00000000e+00            -inf\n",
            "   0.00000000e+00  0.00000000e+00            -inf  0.00000000e+00\n",
            "   0.00000000e+00 -0.00000000e+00  0.00000000e+00  0.00000000e+00\n",
            "  -0.00000000e+00  0.00000000e+00]\n",
            " [ 0.00000000e+00            -inf  0.00000000e+00  0.00000000e+00\n",
            "             -inf  0.00000000e+00  0.00000000e+00            -inf\n",
            "   0.00000000e+00  0.00000000e+00            -inf  0.00000000e+00\n",
            "   0.00000000e+00  0.00000000e+00  0.00000000e+00  0.00000000e+00\n",
            "   0.00000000e+00  0.00000000e+00  0.00000000e+00 -0.00000000e+00\n",
            "   0.00000000e+00  0.00000000e+00 -0.00000000e+00  0.00000000e+00\n",
            "   0.00000000e+00            -inf  0.00000000e+00  0.00000000e+00\n",
            "             -inf  0.00000000e+00]\n",
            " [ 0.00000000e+00            -inf  0.00000000e+00  0.00000000e+00\n",
            "  -0.00000000e+00  0.00000000e+00  0.00000000e+00            -inf\n",
            "   0.00000000e+00  0.00000000e+00 -0.00000000e+00  0.00000000e+00\n",
            "   0.00000000e+00  0.00000000e+00  0.00000000e+00  0.00000000e+00\n",
            "              inf  0.00000000e+00  0.00000000e+00             inf\n",
            "   0.00000000e+00  0.00000000e+00 -0.00000000e+00  0.00000000e+00\n",
            "   0.00000000e+00 -0.00000000e+00  0.00000000e+00  0.00000000e+00\n",
            "   0.00000000e+00  0.00000000e+00]\n",
            " [ 0.00000000e+00  0.00000000e+00  0.00000000e+00  0.00000000e+00\n",
            "   0.00000000e+00  0.00000000e+00  0.00000000e+00  0.00000000e+00\n",
            "   0.00000000e+00  0.00000000e+00  1.60219008e-27  0.00000000e+00\n",
            "   0.00000000e+00  1.60219008e-27  0.00000000e+00  0.00000000e+00\n",
            "             -inf  0.00000000e+00  0.00000000e+00            -inf\n",
            "   0.00000000e+00  0.00000000e+00            -inf  0.00000000e+00\n",
            "   0.00000000e+00  0.00000000e+00  0.00000000e+00  0.00000000e+00\n",
            "             -inf  0.00000000e+00]\n",
            " [ 0.00000000e+00            -inf  0.00000000e+00  0.00000000e+00\n",
            "   0.00000000e+00  0.00000000e+00  0.00000000e+00  0.00000000e+00\n",
            "   0.00000000e+00  0.00000000e+00            -inf  0.00000000e+00\n",
            "   0.00000000e+00  0.00000000e+00  0.00000000e+00  0.00000000e+00\n",
            "   0.00000000e+00  0.00000000e+00  0.00000000e+00            -inf\n",
            "   0.00000000e+00  0.00000000e+00            -inf  0.00000000e+00\n",
            "   0.00000000e+00            -inf  0.00000000e+00  0.00000000e+00\n",
            "             -inf  0.00000000e+00]\n",
            " [ 0.00000000e+00            -inf  0.00000000e+00  0.00000000e+00\n",
            "  -0.00000000e+00  0.00000000e+00  0.00000000e+00 -0.00000000e+00\n",
            "   0.00000000e+00  0.00000000e+00             inf  0.00000000e+00\n",
            "   0.00000000e+00             inf  0.00000000e+00  0.00000000e+00\n",
            "  -0.00000000e+00  0.00000000e+00  0.00000000e+00  1.31004615e+23\n",
            "   0.00000000e+00  0.00000000e+00  0.00000000e+00  0.00000000e+00\n",
            "   0.00000000e+00             inf  0.00000000e+00  0.00000000e+00\n",
            "              inf  0.00000000e+00]\n",
            " [ 0.00000000e+00  0.00000000e+00  0.00000000e+00  0.00000000e+00\n",
            "   1.31004615e+23  0.00000000e+00  0.00000000e+00            -inf\n",
            "   0.00000000e+00  0.00000000e+00             inf  0.00000000e+00\n",
            "   0.00000000e+00 -0.00000000e+00  0.00000000e+00  0.00000000e+00\n",
            "   0.00000000e+00  0.00000000e+00  0.00000000e+00  0.00000000e+00\n",
            "   0.00000000e+00  0.00000000e+00 -0.00000000e+00  0.00000000e+00\n",
            "   0.00000000e+00 -0.00000000e+00  0.00000000e+00  0.00000000e+00\n",
            "  -0.00000000e+00  0.00000000e+00]\n",
            " [ 0.00000000e+00             inf  0.00000000e+00  0.00000000e+00\n",
            "             -inf  0.00000000e+00  0.00000000e+00             inf\n",
            "   0.00000000e+00  0.00000000e+00 -0.00000000e+00  0.00000000e+00\n",
            "   0.00000000e+00            -inf  0.00000000e+00  0.00000000e+00\n",
            "  -2.42102914e-27  0.00000000e+00  0.00000000e+00             inf\n",
            "   0.00000000e+00  0.00000000e+00             inf  0.00000000e+00\n",
            "   0.00000000e+00            -inf  0.00000000e+00  0.00000000e+00\n",
            "  -0.00000000e+00  0.00000000e+00]\n",
            " [ 0.00000000e+00             inf  0.00000000e+00  0.00000000e+00\n",
            "             -inf  0.00000000e+00  0.00000000e+00            -inf\n",
            "   0.00000000e+00  0.00000000e+00            -inf  0.00000000e+00\n",
            "   0.00000000e+00 -0.00000000e+00  0.00000000e+00  0.00000000e+00\n",
            "              inf  0.00000000e+00  0.00000000e+00            -inf\n",
            "   0.00000000e+00  0.00000000e+00             inf  0.00000000e+00\n",
            "   0.00000000e+00             inf  0.00000000e+00  0.00000000e+00\n",
            "             -inf  0.00000000e+00]\n",
            " [ 0.00000000e+00             inf  0.00000000e+00  0.00000000e+00\n",
            "  -0.00000000e+00  0.00000000e+00  0.00000000e+00            -inf\n",
            "   0.00000000e+00  0.00000000e+00 -0.00000000e+00  0.00000000e+00\n",
            "   0.00000000e+00             inf  0.00000000e+00  0.00000000e+00\n",
            "  -5.18008584e+17  0.00000000e+00  0.00000000e+00 -5.18008584e+17\n",
            "   0.00000000e+00  0.00000000e+00             inf  0.00000000e+00\n",
            "   0.00000000e+00             inf  0.00000000e+00  0.00000000e+00\n",
            "              inf  0.00000000e+00]\n",
            " [ 0.00000000e+00 -0.00000000e+00  0.00000000e+00  0.00000000e+00\n",
            "  -0.00000000e+00  0.00000000e+00  0.00000000e+00            -inf\n",
            "   0.00000000e+00  0.00000000e+00            -inf  0.00000000e+00\n",
            "   0.00000000e+00 -0.00000000e+00  0.00000000e+00  0.00000000e+00\n",
            "  -2.44833983e-26  0.00000000e+00  0.00000000e+00 -2.44833983e-26\n",
            "   0.00000000e+00  0.00000000e+00  0.00000000e+00  0.00000000e+00\n",
            "   0.00000000e+00 -0.00000000e+00  0.00000000e+00  0.00000000e+00\n",
            "             -inf  0.00000000e+00]\n",
            " [ 0.00000000e+00            -inf  0.00000000e+00  0.00000000e+00\n",
            "  -0.00000000e+00  0.00000000e+00  0.00000000e+00  0.00000000e+00\n",
            "   0.00000000e+00  0.00000000e+00 -0.00000000e+00  0.00000000e+00\n",
            "   0.00000000e+00  1.91874665e+34  0.00000000e+00  0.00000000e+00\n",
            "              inf  0.00000000e+00  0.00000000e+00  0.00000000e+00\n",
            "   0.00000000e+00  0.00000000e+00  0.00000000e+00  0.00000000e+00\n",
            "   0.00000000e+00             inf  0.00000000e+00  0.00000000e+00\n",
            "   1.91874665e+34  0.00000000e+00]\n",
            " [ 0.00000000e+00            -inf  0.00000000e+00  0.00000000e+00\n",
            "             -inf  0.00000000e+00  0.00000000e+00 -0.00000000e+00\n",
            "   0.00000000e+00  0.00000000e+00 -0.00000000e+00  0.00000000e+00\n",
            "   0.00000000e+00             inf  0.00000000e+00  0.00000000e+00\n",
            "  -0.00000000e+00  0.00000000e+00  0.00000000e+00 -0.00000000e+00\n",
            "   0.00000000e+00  0.00000000e+00             inf  0.00000000e+00\n",
            "   0.00000000e+00            -inf  0.00000000e+00  0.00000000e+00\n",
            "  -0.00000000e+00  0.00000000e+00]\n",
            " [ 0.00000000e+00 -0.00000000e+00  0.00000000e+00  0.00000000e+00\n",
            "              inf  0.00000000e+00  0.00000000e+00             inf\n",
            "   0.00000000e+00  0.00000000e+00            -inf  0.00000000e+00\n",
            "   0.00000000e+00            -inf  0.00000000e+00  0.00000000e+00\n",
            "              inf  0.00000000e+00  0.00000000e+00             inf\n",
            "   0.00000000e+00  0.00000000e+00  0.00000000e+00  0.00000000e+00\n",
            "   0.00000000e+00  0.00000000e+00  0.00000000e+00  0.00000000e+00\n",
            "             -inf  0.00000000e+00]\n",
            " [ 0.00000000e+00  0.00000000e+00  0.00000000e+00  0.00000000e+00\n",
            "   2.92472053e+15  0.00000000e+00  0.00000000e+00 -0.00000000e+00\n",
            "   0.00000000e+00  0.00000000e+00 -0.00000000e+00  0.00000000e+00\n",
            "   0.00000000e+00            -inf  0.00000000e+00  0.00000000e+00\n",
            "             -inf  0.00000000e+00  0.00000000e+00  2.92472053e+15\n",
            "   0.00000000e+00  0.00000000e+00             inf  0.00000000e+00\n",
            "   0.00000000e+00             inf  0.00000000e+00  0.00000000e+00\n",
            "   0.00000000e+00  0.00000000e+00]\n",
            " [ 0.00000000e+00             inf  0.00000000e+00  0.00000000e+00\n",
            "              inf  0.00000000e+00  0.00000000e+00             inf\n",
            "   0.00000000e+00  0.00000000e+00             inf  0.00000000e+00\n",
            "   0.00000000e+00 -0.00000000e+00  0.00000000e+00  0.00000000e+00\n",
            "  -0.00000000e+00  0.00000000e+00  0.00000000e+00            -inf\n",
            "   0.00000000e+00  0.00000000e+00            -inf  0.00000000e+00\n",
            "   0.00000000e+00            -inf  0.00000000e+00  0.00000000e+00\n",
            "   0.00000000e+00  0.00000000e+00]\n",
            " [ 0.00000000e+00  0.00000000e+00  0.00000000e+00  0.00000000e+00\n",
            "   1.01304840e-29  0.00000000e+00  0.00000000e+00  1.01304840e-29\n",
            "   0.00000000e+00  0.00000000e+00            -inf  0.00000000e+00\n",
            "   0.00000000e+00            -inf  0.00000000e+00  0.00000000e+00\n",
            "             -inf  0.00000000e+00  0.00000000e+00             inf\n",
            "   0.00000000e+00  0.00000000e+00 -0.00000000e+00  0.00000000e+00\n",
            "   0.00000000e+00 -0.00000000e+00  0.00000000e+00  0.00000000e+00\n",
            "              inf  0.00000000e+00]\n",
            " [ 0.00000000e+00            -inf  0.00000000e+00  0.00000000e+00\n",
            "             -inf  0.00000000e+00  0.00000000e+00 -0.00000000e+00\n",
            "   0.00000000e+00  0.00000000e+00 -0.00000000e+00  0.00000000e+00\n",
            "   0.00000000e+00             inf  0.00000000e+00  0.00000000e+00\n",
            "  -0.00000000e+00  0.00000000e+00  0.00000000e+00             inf\n",
            "   0.00000000e+00  0.00000000e+00             inf  0.00000000e+00\n",
            "   0.00000000e+00            -inf  0.00000000e+00  0.00000000e+00\n",
            "              inf  0.00000000e+00]\n",
            " [ 0.00000000e+00             inf  0.00000000e+00  0.00000000e+00\n",
            "  -0.00000000e+00  0.00000000e+00  0.00000000e+00 -0.00000000e+00\n",
            "   0.00000000e+00  0.00000000e+00            -inf  0.00000000e+00\n",
            "   0.00000000e+00             inf  0.00000000e+00  0.00000000e+00\n",
            "              inf  0.00000000e+00  0.00000000e+00 -0.00000000e+00\n",
            "   0.00000000e+00  0.00000000e+00             inf  0.00000000e+00\n",
            "   0.00000000e+00             inf  0.00000000e+00  0.00000000e+00\n",
            "   0.00000000e+00  0.00000000e+00]\n",
            " [ 0.00000000e+00  0.00000000e+00  0.00000000e+00  0.00000000e+00\n",
            "  -0.00000000e+00  0.00000000e+00  0.00000000e+00             inf\n",
            "   0.00000000e+00  0.00000000e+00             inf  0.00000000e+00\n",
            "   0.00000000e+00 -0.00000000e+00  0.00000000e+00  0.00000000e+00\n",
            "             -inf  0.00000000e+00  0.00000000e+00            -inf\n",
            "   0.00000000e+00  0.00000000e+00  0.00000000e+00  0.00000000e+00\n",
            "   0.00000000e+00  0.00000000e+00  0.00000000e+00  0.00000000e+00\n",
            "             -inf  0.00000000e+00]\n",
            " [ 0.00000000e+00            -inf  0.00000000e+00  0.00000000e+00\n",
            "             -inf  0.00000000e+00  0.00000000e+00            -inf\n",
            "   0.00000000e+00  0.00000000e+00 -0.00000000e+00  0.00000000e+00\n",
            "   0.00000000e+00  0.00000000e+00  0.00000000e+00  0.00000000e+00\n",
            "   0.00000000e+00  0.00000000e+00  0.00000000e+00  0.00000000e+00\n",
            "   0.00000000e+00  0.00000000e+00 -0.00000000e+00  0.00000000e+00\n",
            "   0.00000000e+00 -0.00000000e+00  0.00000000e+00  0.00000000e+00\n",
            "   0.00000000e+00  0.00000000e+00]]\n"
          ]
        }
      ]
    },
    {
      "cell_type": "markdown",
      "metadata": {
        "id": "_67yypc0yL0g"
      },
      "source": [
        "# Exercice final\n",
        "\n",
        "Nous allons de nouveau nous intéresser à l'ensemble de Mandelbrot. La cellule ci-dessous contient un code permettant de calculer à l'aide de numpy un ensemble de mandelbrot (le code est simplifié par rapport aux codes sur CPU pour faciliter le TP même si il utilise la notation vectorielle de numpy (il faudra y faire attention pour code le noyau cuda !) : code repris de https://stackoverflow.com/questions/60467316/displaying-mandelbrot-set-in-python-using-matplotlib-pyplot-and-numpy).\n",
        "\n",
        "Transformez le de sorte que sur GPU, chaque thread calcule un pixel de l'image de destination."
      ]
    },
    {
      "cell_type": "code",
      "metadata": {
        "colab": {
          "base_uri": "https://localhost:8080/",
          "height": 532
        },
        "id": "YcAhzA4Gzb51",
        "outputId": "adb80f6c-9468-419e-8559-6a496ed9e055"
      },
      "source": [
        "import pylab as plt\n",
        "import numpy as np\n",
        "# initial values \n",
        "loop = 100 # number of interations\n",
        "div = 1000 # divisions\n",
        "# all possible values of c\n",
        "c = np.linspace(-2,2,div)[:,np.newaxis] + 1j*np.linspace(-1.5,1.5,div)[np.newaxis,:]\n",
        "# array of ones of same dimensions as c\n",
        "ones = np.ones(np.shape(c), np.int)\n",
        "# Array that will hold colors for plot, initial value set here will be\n",
        "# the color of the points in the mandelbrot set, i.e. where the series\n",
        "# converges.\n",
        "# For the code below to work, this initial value must at least be 'loop'.\n",
        "# Here it is loop + 5\n",
        "color = ones * loop + 5\n",
        "z = 0\n",
        "for n in range(0,loop):\n",
        "      z = z**2 + c\n",
        "      diverged = np.abs(z)>2\n",
        "      # Store value of n at which series was detected to diverge.\n",
        "      # The later the series is detected to diverge, the higher\n",
        "      # the 'color' value.\n",
        "      color[diverged] = np.minimum(color[diverged], ones[diverged]*n)\n",
        "\n",
        "plt.rcParams['figure.figsize'] = [12, 7.5]\n",
        "# contour plot with real and imaginary parts of c as axes\n",
        "# and colored according to 'color'\n",
        "plt.contourf(c.real, c.imag, color)\n",
        "plt.xlabel(\"Real($c$)\")\n",
        "plt.ylabel(\"Imag($c$)\")\n",
        "plt.xlim(-2,2)\n",
        "plt.ylim(-1.5,1.5)\n",
        "plt.savefig(\"plot.png\")\n",
        "plt.show()"
      ],
      "execution_count": null,
      "outputs": [
        {
          "output_type": "stream",
          "name": "stderr",
          "text": [
            "/usr/local/lib/python3.7/dist-packages/ipykernel_launcher.py:18: RuntimeWarning: overflow encountered in square\n",
            "/usr/local/lib/python3.7/dist-packages/ipykernel_launcher.py:18: RuntimeWarning: invalid value encountered in square\n",
            "/usr/local/lib/python3.7/dist-packages/ipykernel_launcher.py:19: RuntimeWarning: overflow encountered in absolute\n"
          ]
        },
        {
          "output_type": "display_data",
          "data": {
            "image/png": "[encoded data removed]",
            "text/plain": [
              "<Figure size 864x540 with 1 Axes>"
            ]
          },
          "metadata": {
            "needs_background": "light"
          }
        }
      ]
    }
  ]
}